{
 "metadata": {
  "name": "",
  "signature": "sha256:49576e20a55e0c5bbe074feda7edb1a9a20a6369ce4ae86ed450395e2fd345cc"
 },
 "nbformat": 3,
 "nbformat_minor": 0,
 "worksheets": [
  {
   "cells": [
    {
     "cell_type": "code",
     "collapsed": false,
     "input": [
      "# Import libraries\n",
      "import pandas as pd\n",
      "import matplotlib.pyplot as plt\n",
      "import numpy.random as np\n",
      "import sys\n",
      "\n",
      "%matplotlib inline"
     ],
     "language": "python",
     "metadata": {},
     "outputs": [],
     "prompt_number": 1
    },
    {
     "cell_type": "markdown",
     "metadata": {},
     "source": [
      "#Create Function to build data Set\n"
     ]
    },
    {
     "cell_type": "code",
     "collapsed": false,
     "input": [
      "# set seed\n",
      "np.seed(111)\n",
      "\n",
      "# Function to generate test data\n",
      "def CreateDataSet(Number=1):\n",
      "    \n",
      "    Output = []\n",
      "    \n",
      "    for i in range(Number):\n",
      "        \n",
      "        # Create a weekly (mondays) date range\n",
      "        rng = pd.date_range(start='1/1/2009', end='12/31/2012', freq='W-MON')\n",
      "        \n",
      "        # Create random data\n",
      "        data = np.randint(low=25,high=1000,size=len(rng))\n",
      "        \n",
      "        # Status pool\n",
      "        status = [1,2,3]\n",
      "        \n",
      "        # Make a random list of statuses\n",
      "        random_status = [status[np.randint(low=0,high=len(status))] for i in range(len(rng))]\n",
      "        \n",
      "        # State pool\n",
      "        states = ['GA','FL','fl','NY','NJ','TX']\n",
      "        \n",
      "        # Make a random list of states \n",
      "        random_states = [states[np.randint(low=0,high=len(states))] for i in range(len(rng))]\n",
      "    \n",
      "        Output.extend(zip(random_states, random_status, data, rng))\n",
      "        \n",
      "    return Output"
     ],
     "language": "python",
     "metadata": {},
     "outputs": [],
     "prompt_number": 2
    },
    {
     "cell_type": "code",
     "collapsed": false,
     "input": [
      "dataset = CreateDataSet(4)\n",
      "df = pd.DataFrame(data=dataset, columns=['State','Status','CustomerCount','StatusDate'])\n",
      "df.head(1)"
     ],
     "language": "python",
     "metadata": {},
     "outputs": [
      {
       "html": [
        "<div style=\"max-height:1000px;max-width:1500px;overflow:auto;\">\n",
        "<table border=\"1\" class=\"dataframe\">\n",
        "  <thead>\n",
        "    <tr style=\"text-align: right;\">\n",
        "      <th></th>\n",
        "      <th>State</th>\n",
        "      <th>Status</th>\n",
        "      <th>CustomerCount</th>\n",
        "      <th>StatusDate</th>\n",
        "    </tr>\n",
        "  </thead>\n",
        "  <tbody>\n",
        "    <tr>\n",
        "      <th>0</th>\n",
        "      <td> GA</td>\n",
        "      <td> 1</td>\n",
        "      <td> 877</td>\n",
        "      <td>2009-01-05</td>\n",
        "    </tr>\n",
        "  </tbody>\n",
        "</table>\n",
        "</div>"
       ],
       "metadata": {},
       "output_type": "pyout",
       "prompt_number": 3,
       "text": [
        "  State  Status  CustomerCount StatusDate\n",
        "0    GA       1            877 2009-01-05"
       ]
      }
     ],
     "prompt_number": 3
    },
    {
     "cell_type": "code",
     "collapsed": false,
     "input": [
      "df['State'].unique()"
     ],
     "language": "python",
     "metadata": {},
     "outputs": [
      {
       "metadata": {},
       "output_type": "pyout",
       "prompt_number": 4,
       "text": [
        "array(['GA', 'FL', 'fl', 'TX', 'NY', 'NJ'], dtype=object)"
       ]
      }
     ],
     "prompt_number": 4
    },
    {
     "cell_type": "markdown",
     "metadata": {},
     "source": [
      "#Clean The Data\n",
      "\n",
      "1)convert to upper\n",
      "\n",
      "2)select only data status = 1\n",
      "\n",
      "3)convert NJ -> NY"
     ]
    },
    {
     "cell_type": "code",
     "collapsed": false,
     "input": [
      "# Clean State Column, convert to upper case\n",
      "df['State'] = df.State.apply(lambda x: x.upper())\n",
      "df['State'].unique()"
     ],
     "language": "python",
     "metadata": {},
     "outputs": [
      {
       "metadata": {},
       "output_type": "pyout",
       "prompt_number": 6,
       "text": [
        "array(['GA', 'FL', 'TX', 'NY', 'NJ'], dtype=object)"
       ]
      }
     ],
     "prompt_number": 6
    },
    {
     "cell_type": "code",
     "collapsed": false,
     "input": [
      "# Only grab where Status == 1\n",
      "mask = df['Status'] == 1\n",
      "df = df[mask]\n",
      "\n",
      "\n",
      "# Convert NJ to NY\n",
      "mask = df.State == 'NJ'\n",
      "df['State'][mask] = 'NY'\n",
      "df['State'].unique()"
     ],
     "language": "python",
     "metadata": {},
     "outputs": [
      {
       "metadata": {},
       "output_type": "pyout",
       "prompt_number": 9,
       "text": [
        "array(['GA', 'FL', 'NY', 'TX'], dtype=object)"
       ]
      }
     ],
     "prompt_number": 9
    },
    {
     "cell_type": "code",
     "collapsed": false,
     "input": [
      "\n",
      "df['CustomerCount'].plot(figsize=(15,5));"
     ],
     "language": "python",
     "metadata": {},
     "outputs": [
      {
       "metadata": {},
       "output_type": "display_data",
       "png": "[encoded data removed]",
       "text": [
        "<matplotlib.figure.Figure at 0x42a73c8>"
       ]
      }
     ],
     "prompt_number": 10
    },
    {
     "cell_type": "code",
     "collapsed": false,
     "input": [
      "sortdf = df[df['State']=='NY'].sort(axis=0)\n",
      "sortdf.head(10)"
     ],
     "language": "python",
     "metadata": {},
     "outputs": [
      {
       "html": [
        "<div style=\"max-height:1000px;max-width:1500px;overflow:auto;\">\n",
        "<table border=\"1\" class=\"dataframe\">\n",
        "  <thead>\n",
        "    <tr style=\"text-align: right;\">\n",
        "      <th></th>\n",
        "      <th>State</th>\n",
        "      <th>Status</th>\n",
        "      <th>CustomerCount</th>\n",
        "      <th>StatusDate</th>\n",
        "    </tr>\n",
        "  </thead>\n",
        "  <tbody>\n",
        "    <tr>\n",
        "      <th>9 </th>\n",
        "      <td> NY</td>\n",
        "      <td> 1</td>\n",
        "      <td> 992</td>\n",
        "      <td>2009-03-09</td>\n",
        "    </tr>\n",
        "    <tr>\n",
        "      <th>16</th>\n",
        "      <td> NY</td>\n",
        "      <td> 1</td>\n",
        "      <td> 753</td>\n",
        "      <td>2009-04-27</td>\n",
        "    </tr>\n",
        "    <tr>\n",
        "      <th>29</th>\n",
        "      <td> NY</td>\n",
        "      <td> 1</td>\n",
        "      <td> 990</td>\n",
        "      <td>2009-07-27</td>\n",
        "    </tr>\n",
        "    <tr>\n",
        "      <th>36</th>\n",
        "      <td> NY</td>\n",
        "      <td> 1</td>\n",
        "      <td> 772</td>\n",
        "      <td>2009-09-14</td>\n",
        "    </tr>\n",
        "    <tr>\n",
        "      <th>38</th>\n",
        "      <td> NY</td>\n",
        "      <td> 1</td>\n",
        "      <td> 349</td>\n",
        "      <td>2009-09-28</td>\n",
        "    </tr>\n",
        "    <tr>\n",
        "      <th>40</th>\n",
        "      <td> NY</td>\n",
        "      <td> 1</td>\n",
        "      <td> 694</td>\n",
        "      <td>2009-10-12</td>\n",
        "    </tr>\n",
        "    <tr>\n",
        "      <th>55</th>\n",
        "      <td> NY</td>\n",
        "      <td> 1</td>\n",
        "      <td> 640</td>\n",
        "      <td>2010-01-25</td>\n",
        "    </tr>\n",
        "    <tr>\n",
        "      <th>66</th>\n",
        "      <td> NY</td>\n",
        "      <td> 1</td>\n",
        "      <td> 375</td>\n",
        "      <td>2010-04-12</td>\n",
        "    </tr>\n",
        "    <tr>\n",
        "      <th>72</th>\n",
        "      <td> NY</td>\n",
        "      <td> 1</td>\n",
        "      <td> 538</td>\n",
        "      <td>2010-05-24</td>\n",
        "    </tr>\n",
        "    <tr>\n",
        "      <th>81</th>\n",
        "      <td> NY</td>\n",
        "      <td> 1</td>\n",
        "      <td> 314</td>\n",
        "      <td>2010-07-26</td>\n",
        "    </tr>\n",
        "  </tbody>\n",
        "</table>\n",
        "</div>"
       ],
       "metadata": {},
       "output_type": "pyout",
       "prompt_number": 11,
       "text": [
        "   State  Status  CustomerCount StatusDate\n",
        "9     NY       1            992 2009-03-09\n",
        "16    NY       1            753 2009-04-27\n",
        "29    NY       1            990 2009-07-27\n",
        "36    NY       1            772 2009-09-14\n",
        "38    NY       1            349 2009-09-28\n",
        "40    NY       1            694 2009-10-12\n",
        "55    NY       1            640 2010-01-25\n",
        "66    NY       1            375 2010-04-12\n",
        "72    NY       1            538 2010-05-24\n",
        "81    NY       1            314 2010-07-26"
       ]
      }
     ],
     "prompt_number": 11
    },
    {
     "cell_type": "markdown",
     "metadata": {},
     "source": [
      "we will now use groupby to create a pivot table\n",
      "\n",
      "group by only works for columns\n",
      "\n",
      "must use reset_index \n"
     ]
    },
    {
     "cell_type": "code",
     "collapsed": false,
     "input": [
      "# Group by State and StatusDate\n",
      "Daily = df.reset_index().groupby(['State','StatusDate']).sum()\n",
      "Daily.head()"
     ],
     "language": "python",
     "metadata": {},
     "outputs": [
      {
       "html": [
        "<div style=\"max-height:1000px;max-width:1500px;overflow:auto;\">\n",
        "<table border=\"1\" class=\"dataframe\">\n",
        "  <thead>\n",
        "    <tr style=\"text-align: right;\">\n",
        "      <th></th>\n",
        "      <th></th>\n",
        "      <th>index</th>\n",
        "      <th>Status</th>\n",
        "      <th>CustomerCount</th>\n",
        "    </tr>\n",
        "    <tr>\n",
        "      <th>State</th>\n",
        "      <th>StatusDate</th>\n",
        "      <th></th>\n",
        "      <th></th>\n",
        "      <th></th>\n",
        "    </tr>\n",
        "  </thead>\n",
        "  <tbody>\n",
        "    <tr>\n",
        "      <th rowspan=\"5\" valign=\"top\">FL</th>\n",
        "      <th>2009-01-12</th>\n",
        "      <td>   1</td>\n",
        "      <td> 1</td>\n",
        "      <td>  901</td>\n",
        "    </tr>\n",
        "    <tr>\n",
        "      <th>2009-02-02</th>\n",
        "      <td> 422</td>\n",
        "      <td> 1</td>\n",
        "      <td>  653</td>\n",
        "    </tr>\n",
        "    <tr>\n",
        "      <th>2009-03-23</th>\n",
        "      <td> 429</td>\n",
        "      <td> 1</td>\n",
        "      <td>  752</td>\n",
        "    </tr>\n",
        "    <tr>\n",
        "      <th>2009-04-06</th>\n",
        "      <td> 653</td>\n",
        "      <td> 2</td>\n",
        "      <td> 1086</td>\n",
        "    </tr>\n",
        "    <tr>\n",
        "      <th>2009-06-08</th>\n",
        "      <td> 440</td>\n",
        "      <td> 1</td>\n",
        "      <td>  649</td>\n",
        "    </tr>\n",
        "  </tbody>\n",
        "</table>\n",
        "</div>"
       ],
       "metadata": {},
       "output_type": "pyout",
       "prompt_number": 12,
       "text": [
        "                  index  Status  CustomerCount\n",
        "State StatusDate                              \n",
        "FL    2009-01-12      1       1            901\n",
        "      2009-02-02    422       1            653\n",
        "      2009-03-23    429       1            752\n",
        "      2009-04-06    653       2           1086\n",
        "      2009-06-08    440       1            649"
       ]
      }
     ],
     "prompt_number": 12
    },
    {
     "cell_type": "code",
     "collapsed": false,
     "input": [
      "del Daily['Status']\n",
      "del Daily['index']\n",
      "Daily.head()"
     ],
     "language": "python",
     "metadata": {},
     "outputs": [
      {
       "html": [
        "<div style=\"max-height:1000px;max-width:1500px;overflow:auto;\">\n",
        "<table border=\"1\" class=\"dataframe\">\n",
        "  <thead>\n",
        "    <tr style=\"text-align: right;\">\n",
        "      <th></th>\n",
        "      <th></th>\n",
        "      <th>CustomerCount</th>\n",
        "    </tr>\n",
        "    <tr>\n",
        "      <th>State</th>\n",
        "      <th>StatusDate</th>\n",
        "      <th></th>\n",
        "    </tr>\n",
        "  </thead>\n",
        "  <tbody>\n",
        "    <tr>\n",
        "      <th rowspan=\"5\" valign=\"top\">FL</th>\n",
        "      <th>2009-01-12</th>\n",
        "      <td>  901</td>\n",
        "    </tr>\n",
        "    <tr>\n",
        "      <th>2009-02-02</th>\n",
        "      <td>  653</td>\n",
        "    </tr>\n",
        "    <tr>\n",
        "      <th>2009-03-23</th>\n",
        "      <td>  752</td>\n",
        "    </tr>\n",
        "    <tr>\n",
        "      <th>2009-04-06</th>\n",
        "      <td> 1086</td>\n",
        "    </tr>\n",
        "    <tr>\n",
        "      <th>2009-06-08</th>\n",
        "      <td>  649</td>\n",
        "    </tr>\n",
        "  </tbody>\n",
        "</table>\n",
        "</div>"
       ],
       "metadata": {},
       "output_type": "pyout",
       "prompt_number": 15,
       "text": [
        "                  CustomerCount\n",
        "State StatusDate               \n",
        "FL    2009-01-12            901\n",
        "      2009-02-02            653\n",
        "      2009-03-23            752\n",
        "      2009-04-06           1086\n",
        "      2009-06-08            649"
       ]
      }
     ],
     "prompt_number": 15
    },
    {
     "cell_type": "code",
     "collapsed": false,
     "input": [],
     "language": "python",
     "metadata": {},
     "outputs": []
    }
   ],
   "metadata": {}
  }
 ]
}