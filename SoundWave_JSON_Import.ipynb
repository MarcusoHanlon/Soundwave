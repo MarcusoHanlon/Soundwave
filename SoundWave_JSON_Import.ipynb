{
 "cells": [
  {
   "cell_type": "markdown",
   "metadata": {},
   "source": [
    "#Import Json File Into DataFrame\n",
    "\n",
    "Lets experiment with importing a JSON file into pythos using the Users data frame."
   ]
  },
  {
   "cell_type": "code",
   "execution_count": 2,
   "metadata": {
    "collapsed": false
   },
   "outputs": [
    {
     "data": {
      "text/plain": [
       "'C:\\\\Users\\\\Aron'"
      ]
     },
     "execution_count": 2,
     "metadata": {},
     "output_type": "execute_result"
    }
   ],
   "source": [
    "import json\n",
    "from pprint import pprint\n",
    "import pandas as pd\n",
    "import os\n",
    "os.getcwd()"
   ]
  },
  {
   "cell_type": "markdown",
   "metadata": {},
   "source": [
    "###Method One\n",
    "\n",
    "This method seems the messiest and most difficult to parse through"
   ]
  },
  {
   "cell_type": "code",
   "execution_count": 3,
   "metadata": {
    "collapsed": false
   },
   "outputs": [
    {
     "data": {
      "text/plain": [
       "'{\\n    \"_id\": 11,\\n    \"claimToFame\": \"Send me some tunes...or your GitHub!\",\\n    \"commentCount\": 230,\\n    \"coverImage\": \"img.jpg\",\\n    \"currentLanguage\": \"en-GB\",\\n    \"dateOfBirth\": \"07/29/1982\",\\n    \"email\": \"lynchdt@gmail.com\",\\n    \"facebookDetails\":    {\\n            \"accessToken\": \"123\",\\n            \"facebookId\": \"123\"\\n        }\\n    ,\\n    \"facebookId\": 1,\\n    \"firstName\": \"David\",\\n    \"followerCount\": 422403,\\n    \"following\": false,\\n    \"followingCount\": 253,\\n    \"googleDetails\": \\n        {\\n            \"googleId\": \"111411986454983058357\",\\n            \"accessToken\": \"123\"\\n        }\\n    ,\\n    \"googleId\": \"123\",\\n    \"groupChannel\": \"123\",\\n    \"hidden\": false,\\n    \"humdinger\": \"Bell X1 - Bad Skin Day\",\\n    \"humdingerId\": \"1032924028d14f647998a3418df70429\",\\n    \"image\": \"img2_jpg\",\\n    \"lastName\": \"Lynch\",\\n    \"lastUpdated\": \"2015-05-07T13:22:51.132Z\",\\n    \"memberSince\": \"2013-03-19T14:57:38.052Z\",\\n    \"nameSortKey\": \"david lynch\",\\n    \"place\": \"Dublin, Ireland\",\\n    \"playCount\": 13261,\\n    \"signupPlatform\": \"iOS\",\\n    \"twitterDetails\": \\n        {\\n            \"twitterId\": 1777,\\n            \"twitterScreenName\": \"davefromdublin\",\\n            \"token\": \"123\",\\n            \"tokenSecret\": \"123\"\\n        }\\n    \\n}'"
      ]
     },
     "execution_count": 3,
     "metadata": {},
     "output_type": "execute_result"
    }
   ],
   "source": [
    "open('user.json').read()"
   ]
  },
  {
   "cell_type": "markdown",
   "metadata": {},
   "source": [
    "###Mathod Two\n",
    "\n",
    "This still yield an output resuting in alot of required parsing"
   ]
  },
  {
   "cell_type": "code",
   "execution_count": 4,
   "metadata": {
    "collapsed": false
   },
   "outputs": [
    {
     "name": "stdout",
     "output_type": "stream",
     "text": [
      "{u'_id': 11,\n",
      " u'claimToFame': u'Send me some tunes...or your GitHub!',\n",
      " u'commentCount': 230,\n",
      " u'coverImage': u'img.jpg',\n",
      " u'currentLanguage': u'en-GB',\n",
      " u'dateOfBirth': u'07/29/1982',\n",
      " u'email': u'lynchdt@gmail.com',\n",
      " u'facebookDetails': {u'accessToken': u'123', u'facebookId': u'123'},\n",
      " u'facebookId': 1,\n",
      " u'firstName': u'David',\n",
      " u'followerCount': 422403,\n",
      " u'following': False,\n",
      " u'followingCount': 253,\n",
      " u'googleDetails': {u'accessToken': u'123',\n",
      "                    u'googleId': u'111411986454983058357'},\n",
      " u'googleId': u'123',\n",
      " u'groupChannel': u'123',\n",
      " u'hidden': False,\n",
      " u'humdinger': u'Bell X1 - Bad Skin Day',\n",
      " u'humdingerId': u'1032924028d14f647998a3418df70429',\n",
      " u'image': u'img2_jpg',\n",
      " u'lastName': u'Lynch',\n",
      " u'lastUpdated': u'2015-05-07T13:22:51.132Z',\n",
      " u'memberSince': u'2013-03-19T14:57:38.052Z',\n",
      " u'nameSortKey': u'david lynch',\n",
      " u'place': u'Dublin, Ireland',\n",
      " u'playCount': 13261,\n",
      " u'signupPlatform': u'iOS',\n",
      " u'twitterDetails': {u'token': u'123',\n",
      "                     u'tokenSecret': u'123',\n",
      "                     u'twitterId': 1777,\n",
      "                     u'twitterScreenName': u'davefromdublin'}}\n"
     ]
    }
   ],
   "source": [
    "with open('user.json') as data_file:    \n",
    "    data = json.load(data_file)\n",
    "\n",
    "pprint(data)"
   ]
  },
  {
   "cell_type": "markdown",
   "metadata": {},
   "source": [
    "###Method Three\n",
    "\n",
    "This almost gives me a perfectly clean dataframe, however the nested values are causing an issue. Will need to source means of dealing with the nested values.\n"
   ]
  },
  {
   "cell_type": "code",
   "execution_count": 5,
   "metadata": {
    "collapsed": false
   },
   "outputs": [
    {
     "data": {
      "text/html": [
       "<div style=\"max-height:1000px;max-width:1500px;overflow:auto;\">\n",
       "<table border=\"1\" class=\"dataframe\">\n",
       "  <thead>\n",
       "    <tr style=\"text-align: right;\">\n",
       "      <th></th>\n",
       "      <th>_id</th>\n",
       "      <th>claimToFame</th>\n",
       "      <th>commentCount</th>\n",
       "      <th>coverImage</th>\n",
       "      <th>currentLanguage</th>\n",
       "      <th>dateOfBirth</th>\n",
       "      <th>email</th>\n",
       "      <th>facebookDetails</th>\n",
       "      <th>facebookId</th>\n",
       "      <th>firstName</th>\n",
       "      <th>...</th>\n",
       "      <th>humdingerId</th>\n",
       "      <th>image</th>\n",
       "      <th>lastName</th>\n",
       "      <th>lastUpdated</th>\n",
       "      <th>memberSince</th>\n",
       "      <th>nameSortKey</th>\n",
       "      <th>place</th>\n",
       "      <th>playCount</th>\n",
       "      <th>signupPlatform</th>\n",
       "      <th>twitterDetails</th>\n",
       "    </tr>\n",
       "  </thead>\n",
       "  <tbody>\n",
       "    <tr>\n",
       "      <th>accessToken</th>\n",
       "      <td> 11</td>\n",
       "      <td> Send me some tunes...or your GitHub!</td>\n",
       "      <td> 230</td>\n",
       "      <td> img.jpg</td>\n",
       "      <td> en-GB</td>\n",
       "      <td> 07/29/1982</td>\n",
       "      <td> lynchdt@gmail.com</td>\n",
       "      <td> 123</td>\n",
       "      <td> 1</td>\n",
       "      <td> David</td>\n",
       "      <td>...</td>\n",
       "      <td> 1032924028d14f647998a3418df70429</td>\n",
       "      <td> img2_jpg</td>\n",
       "      <td> Lynch</td>\n",
       "      <td> 2015-05-07T13:22:51.132Z</td>\n",
       "      <td> 2013-03-19T14:57:38.052Z</td>\n",
       "      <td> david lynch</td>\n",
       "      <td> Dublin, Ireland</td>\n",
       "      <td> 13261</td>\n",
       "      <td> iOS</td>\n",
       "      <td> NaN</td>\n",
       "    </tr>\n",
       "    <tr>\n",
       "      <th>facebookId</th>\n",
       "      <td> 11</td>\n",
       "      <td> Send me some tunes...or your GitHub!</td>\n",
       "      <td> 230</td>\n",
       "      <td> img.jpg</td>\n",
       "      <td> en-GB</td>\n",
       "      <td> 07/29/1982</td>\n",
       "      <td> lynchdt@gmail.com</td>\n",
       "      <td> 123</td>\n",
       "      <td> 1</td>\n",
       "      <td> David</td>\n",
       "      <td>...</td>\n",
       "      <td> 1032924028d14f647998a3418df70429</td>\n",
       "      <td> img2_jpg</td>\n",
       "      <td> Lynch</td>\n",
       "      <td> 2015-05-07T13:22:51.132Z</td>\n",
       "      <td> 2013-03-19T14:57:38.052Z</td>\n",
       "      <td> david lynch</td>\n",
       "      <td> Dublin, Ireland</td>\n",
       "      <td> 13261</td>\n",
       "      <td> iOS</td>\n",
       "      <td> NaN</td>\n",
       "    </tr>\n",
       "    <tr>\n",
       "      <th>googleId</th>\n",
       "      <td> 11</td>\n",
       "      <td> Send me some tunes...or your GitHub!</td>\n",
       "      <td> 230</td>\n",
       "      <td> img.jpg</td>\n",
       "      <td> en-GB</td>\n",
       "      <td> 07/29/1982</td>\n",
       "      <td> lynchdt@gmail.com</td>\n",
       "      <td> NaN</td>\n",
       "      <td> 1</td>\n",
       "      <td> David</td>\n",
       "      <td>...</td>\n",
       "      <td> 1032924028d14f647998a3418df70429</td>\n",
       "      <td> img2_jpg</td>\n",
       "      <td> Lynch</td>\n",
       "      <td> 2015-05-07T13:22:51.132Z</td>\n",
       "      <td> 2013-03-19T14:57:38.052Z</td>\n",
       "      <td> david lynch</td>\n",
       "      <td> Dublin, Ireland</td>\n",
       "      <td> 13261</td>\n",
       "      <td> iOS</td>\n",
       "      <td> NaN</td>\n",
       "    </tr>\n",
       "    <tr>\n",
       "      <th>token</th>\n",
       "      <td> 11</td>\n",
       "      <td> Send me some tunes...or your GitHub!</td>\n",
       "      <td> 230</td>\n",
       "      <td> img.jpg</td>\n",
       "      <td> en-GB</td>\n",
       "      <td> 07/29/1982</td>\n",
       "      <td> lynchdt@gmail.com</td>\n",
       "      <td> NaN</td>\n",
       "      <td> 1</td>\n",
       "      <td> David</td>\n",
       "      <td>...</td>\n",
       "      <td> 1032924028d14f647998a3418df70429</td>\n",
       "      <td> img2_jpg</td>\n",
       "      <td> Lynch</td>\n",
       "      <td> 2015-05-07T13:22:51.132Z</td>\n",
       "      <td> 2013-03-19T14:57:38.052Z</td>\n",
       "      <td> david lynch</td>\n",
       "      <td> Dublin, Ireland</td>\n",
       "      <td> 13261</td>\n",
       "      <td> iOS</td>\n",
       "      <td> 123</td>\n",
       "    </tr>\n",
       "    <tr>\n",
       "      <th>tokenSecret</th>\n",
       "      <td> 11</td>\n",
       "      <td> Send me some tunes...or your GitHub!</td>\n",
       "      <td> 230</td>\n",
       "      <td> img.jpg</td>\n",
       "      <td> en-GB</td>\n",
       "      <td> 07/29/1982</td>\n",
       "      <td> lynchdt@gmail.com</td>\n",
       "      <td> NaN</td>\n",
       "      <td> 1</td>\n",
       "      <td> David</td>\n",
       "      <td>...</td>\n",
       "      <td> 1032924028d14f647998a3418df70429</td>\n",
       "      <td> img2_jpg</td>\n",
       "      <td> Lynch</td>\n",
       "      <td> 2015-05-07T13:22:51.132Z</td>\n",
       "      <td> 2013-03-19T14:57:38.052Z</td>\n",
       "      <td> david lynch</td>\n",
       "      <td> Dublin, Ireland</td>\n",
       "      <td> 13261</td>\n",
       "      <td> iOS</td>\n",
       "      <td> 123</td>\n",
       "    </tr>\n",
       "  </tbody>\n",
       "</table>\n",
       "<p>5 rows × 28 columns</p>\n",
       "</div>"
      ],
      "text/plain": [
       "             _id                           claimToFame  commentCount  \\\n",
       "accessToken   11  Send me some tunes...or your GitHub!           230   \n",
       "facebookId    11  Send me some tunes...or your GitHub!           230   \n",
       "googleId      11  Send me some tunes...or your GitHub!           230   \n",
       "token         11  Send me some tunes...or your GitHub!           230   \n",
       "tokenSecret   11  Send me some tunes...or your GitHub!           230   \n",
       "\n",
       "            coverImage currentLanguage dateOfBirth              email  \\\n",
       "accessToken    img.jpg           en-GB  07/29/1982  lynchdt@gmail.com   \n",
       "facebookId     img.jpg           en-GB  07/29/1982  lynchdt@gmail.com   \n",
       "googleId       img.jpg           en-GB  07/29/1982  lynchdt@gmail.com   \n",
       "token          img.jpg           en-GB  07/29/1982  lynchdt@gmail.com   \n",
       "tokenSecret    img.jpg           en-GB  07/29/1982  lynchdt@gmail.com   \n",
       "\n",
       "             facebookDetails  facebookId firstName      ...        \\\n",
       "accessToken              123           1     David      ...         \n",
       "facebookId               123           1     David      ...         \n",
       "googleId                 NaN           1     David      ...         \n",
       "token                    NaN           1     David      ...         \n",
       "tokenSecret              NaN           1     David      ...         \n",
       "\n",
       "                                  humdingerId     image  lastName  \\\n",
       "accessToken  1032924028d14f647998a3418df70429  img2_jpg     Lynch   \n",
       "facebookId   1032924028d14f647998a3418df70429  img2_jpg     Lynch   \n",
       "googleId     1032924028d14f647998a3418df70429  img2_jpg     Lynch   \n",
       "token        1032924028d14f647998a3418df70429  img2_jpg     Lynch   \n",
       "tokenSecret  1032924028d14f647998a3418df70429  img2_jpg     Lynch   \n",
       "\n",
       "                          lastUpdated               memberSince  nameSortKey  \\\n",
       "accessToken  2015-05-07T13:22:51.132Z  2013-03-19T14:57:38.052Z  david lynch   \n",
       "facebookId   2015-05-07T13:22:51.132Z  2013-03-19T14:57:38.052Z  david lynch   \n",
       "googleId     2015-05-07T13:22:51.132Z  2013-03-19T14:57:38.052Z  david lynch   \n",
       "token        2015-05-07T13:22:51.132Z  2013-03-19T14:57:38.052Z  david lynch   \n",
       "tokenSecret  2015-05-07T13:22:51.132Z  2013-03-19T14:57:38.052Z  david lynch   \n",
       "\n",
       "                       place playCount signupPlatform twitterDetails  \n",
       "accessToken  Dublin, Ireland     13261            iOS            NaN  \n",
       "facebookId   Dublin, Ireland     13261            iOS            NaN  \n",
       "googleId     Dublin, Ireland     13261            iOS            NaN  \n",
       "token        Dublin, Ireland     13261            iOS            123  \n",
       "tokenSecret  Dublin, Ireland     13261            iOS            123  \n",
       "\n",
       "[5 rows x 28 columns]"
      ]
     },
     "execution_count": 5,
     "metadata": {},
     "output_type": "execute_result"
    }
   ],
   "source": [
    "d1 = pd.read_json('user.json')\n",
    "d1.head()"
   ]
  },
  {
   "cell_type": "markdown",
   "metadata": {
    "collapsed": false
   },
   "source": [
    "#Method Four - Dealing with the nested values"
   ]
  },
  {
   "cell_type": "code",
   "execution_count": 6,
   "metadata": {
    "collapsed": false
   },
   "outputs": [
    {
     "data": {
      "text/html": [
       "<div style=\"max-height:1000px;max-width:1500px;overflow:auto;\">\n",
       "<table border=\"1\" class=\"dataframe\">\n",
       "  <thead>\n",
       "    <tr style=\"text-align: right;\">\n",
       "      <th></th>\n",
       "      <th>_id</th>\n",
       "      <th>claimToFame</th>\n",
       "      <th>commentCount</th>\n",
       "      <th>coverImage</th>\n",
       "      <th>currentLanguage</th>\n",
       "      <th>dateOfBirth</th>\n",
       "      <th>email</th>\n",
       "      <th>facebookDetails</th>\n",
       "      <th>facebookId</th>\n",
       "      <th>firstName</th>\n",
       "      <th>...</th>\n",
       "      <th>humdingerId</th>\n",
       "      <th>image</th>\n",
       "      <th>lastName</th>\n",
       "      <th>lastUpdated</th>\n",
       "      <th>memberSince</th>\n",
       "      <th>nameSortKey</th>\n",
       "      <th>place</th>\n",
       "      <th>playCount</th>\n",
       "      <th>signupPlatform</th>\n",
       "      <th>twitterDetails</th>\n",
       "    </tr>\n",
       "  </thead>\n",
       "  <tbody>\n",
       "    <tr>\n",
       "      <th>0</th>\n",
       "      <td> 11</td>\n",
       "      <td> Send me some tunes...or your GitHub!</td>\n",
       "      <td> 230</td>\n",
       "      <td> img.jpg</td>\n",
       "      <td> en-GB</td>\n",
       "      <td> 07/29/1982</td>\n",
       "      <td> lynchdt@gmail.com</td>\n",
       "      <td> {u'facebookId': u'123', u'accessToken': u'123'}</td>\n",
       "      <td> 1</td>\n",
       "      <td> David</td>\n",
       "      <td>...</td>\n",
       "      <td> 1032924028d14f647998a3418df70429</td>\n",
       "      <td> img2_jpg</td>\n",
       "      <td> Lynch</td>\n",
       "      <td> 2015-05-07T13:22:51.132Z</td>\n",
       "      <td> 2013-03-19T14:57:38.052Z</td>\n",
       "      <td> david lynch</td>\n",
       "      <td> Dublin, Ireland</td>\n",
       "      <td> 13261</td>\n",
       "      <td> iOS</td>\n",
       "      <td> {u'tokenSecret': u'123', u'twitterScreenName':...</td>\n",
       "    </tr>\n",
       "  </tbody>\n",
       "</table>\n",
       "<p>1 rows × 28 columns</p>\n",
       "</div>"
      ],
      "text/plain": [
       "   _id                           claimToFame  commentCount coverImage  \\\n",
       "0   11  Send me some tunes...or your GitHub!           230    img.jpg   \n",
       "\n",
       "  currentLanguage dateOfBirth              email  \\\n",
       "0           en-GB  07/29/1982  lynchdt@gmail.com   \n",
       "\n",
       "                                   facebookDetails  facebookId firstName  \\\n",
       "0  {u'facebookId': u'123', u'accessToken': u'123'}           1     David   \n",
       "\n",
       "                         ...                          \\\n",
       "0                        ...                           \n",
       "\n",
       "                        humdingerId     image  lastName  \\\n",
       "0  1032924028d14f647998a3418df70429  img2_jpg     Lynch   \n",
       "\n",
       "                lastUpdated               memberSince  nameSortKey  \\\n",
       "0  2015-05-07T13:22:51.132Z  2013-03-19T14:57:38.052Z  david lynch   \n",
       "\n",
       "             place playCount signupPlatform  \\\n",
       "0  Dublin, Ireland     13261            iOS   \n",
       "\n",
       "                                      twitterDetails  \n",
       "0  {u'tokenSecret': u'123', u'twitterScreenName':...  \n",
       "\n",
       "[1 rows x 28 columns]"
      ]
     },
     "execution_count": 6,
     "metadata": {},
     "output_type": "execute_result"
    }
   ],
   "source": [
    "from pprint import pprint\n",
    "\n",
    "with open('user.json') as data_file:    \n",
    "    data = json.load(data_file)\n",
    "data1=json.dumps([data],separators=(',',':'))\n",
    "pd.read_json(data1)"
   ]
  },
  {
   "cell_type": "markdown",
   "metadata": {},
   "source": [
    "okay this nearly works perfectly a little more research and should have this"
   ]
  },
  {
   "cell_type": "markdown",
   "metadata": {},
   "source": [
    "#Dealing with Multiple files\n",
    "\n",
    "In the event that there is numerous json files see below example oh how to deal"
   ]
  },
  {
   "cell_type": "code",
   "execution_count": 21,
   "metadata": {
    "collapsed": false
   },
   "outputs": [
    {
     "data": {
      "text/plain": [
       "['[{\"followerCount\":422403,\"memberSince\":\"2013-03-19T14:57:38.052Z\",\"image\":\"img2_jpg\",\"humdinger\":\"Bell X1 - Bad Skin Day\",\"googleDetails\":{\"accessToken\":\"123\",\"googleId\":\"111411986454983058357\"},\"nameSortKey\":\"david lynch\",\"dateOfBirth\":\"07/29/1982\",\"groupChannel\":\"123\",\"signupPlatform\":\"iOS\",\"facebookId\":1,\"commentCount\":230,\"humdingerId\":\"1032924028d14f647998a3418df70429\",\"email\":\"lynchdt@gmail.com\",\"currentLanguage\":\"en-GB\",\"lastUpdated\":\"2015-05-07T13:22:51.132Z\",\"following\":false,\"playCount\":13261,\"twitterDetails\":{\"tokenSecret\":\"123\",\"twitterScreenName\":\"davefromdublin\",\"token\":\"123\",\"twitterId\":1777},\"hidden\":false,\"claimToFame\":\"Send me some tunes...or your GitHub!\",\"firstName\":\"David\",\"lastName\":\"Lynch\",\"coverImage\":\"img.jpg\",\"place\":\"Dublin, Ireland\",\"followingCount\":253,\"facebookDetails\":{\"facebookId\":\"123\",\"accessToken\":\"123\"},\"_id\":11,\"googleId\":\"123\"}]',\n",
       " '[{\"followerCount\":422403,\"memberSince\":\"2013-03-19T14:57:38.052Z\",\"image\":\"img2_jpg\",\"humdinger\":\"Bell X1 - Bad Skin Day\",\"googleDetails\":{\"accessToken\":\"123\",\"googleId\":\"111411986454983058357\"},\"nameSortKey\":\"david lynch\",\"dateOfBirth\":\"07/29/1982\",\"groupChannel\":\"123\",\"signupPlatform\":\"iOS\",\"facebookId\":1,\"commentCount\":230,\"humdingerId\":\"1032924028d14f647998a3418df70429\",\"email\":\"lynchdt@gmail.com\",\"currentLanguage\":\"en-GB\",\"lastUpdated\":\"2015-05-07T13:22:51.132Z\",\"following\":false,\"playCount\":13261,\"twitterDetails\":{\"tokenSecret\":\"123\",\"twitterScreenName\":\"davefromdublin\",\"token\":\"123\",\"twitterId\":1777},\"hidden\":false,\"claimToFame\":\"Send me some tunes...or your GitHub!\",\"firstName\":\"David\",\"lastName\":\"Lynch\",\"coverImage\":\"img.jpg\",\"place\":\"Dublin, Ireland\",\"followingCount\":253,\"facebookDetails\":{\"facebookId\":\"123\",\"accessToken\":\"123\"},\"_id\":11,\"googleId\":\"123\"}]']"
      ]
     },
     "execution_count": 21,
     "metadata": {},
     "output_type": "execute_result"
    }
   ],
   "source": [
    "jsons = range (1, 3)\n",
    "pieces=[]\n",
    "for j in jsons:\n",
    "    path = 'user%d.json' % j\n",
    "    with open(path) as data_file:\n",
    "        data = json.load(data_file)\n",
    "    data1 = json.dumps([data],separators=(',',':'))\n",
    "    pieces.append(data1)\n",
    "pieces"
   ]
  },
  {
   "cell_type": "code",
   "execution_count": null,
   "metadata": {
    "collapsed": true
   },
   "outputs": [],
   "source": []
  }
 ],
 "metadata": {
  "kernelspec": {
   "display_name": "Python 2",
   "language": "python",
   "name": "python2"
  },
  "language_info": {
   "codemirror_mode": {
    "name": "ipython",
    "version": 2
   },
   "file_extension": ".py",
   "mimetype": "text/x-python",
   "name": "python",
   "nbconvert_exporter": "python",
   "pygments_lexer": "ipython2",
   "version": "2.7.9"
  }
 },
 "nbformat": 4,
 "nbformat_minor": 0
}
