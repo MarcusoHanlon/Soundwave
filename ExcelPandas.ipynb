{
 "cells": [
  {
   "cell_type": "code",
   "execution_count": 2,
   "metadata": {
    "collapsed": false
   },
   "outputs": [],
   "source": [
    "##check the working directory\n",
    "import os\n",
    "os.getcwd()\n",
    "import pandas as pd\n",
    "import numpy as np"
   ]
  },
  {
   "cell_type": "code",
   "execution_count": 3,
   "metadata": {
    "collapsed": false
   },
   "outputs": [
    {
     "data": {
      "text/plain": [
       "'C:\\\\Users\\\\Aron'"
      ]
     },
     "execution_count": 3,
     "metadata": {},
     "output_type": "execute_result"
    }
   ],
   "source": [
    "#check working directory\n",
    "os.getcwd()"
   ]
  },
  {
   "cell_type": "code",
   "execution_count": 4,
   "metadata": {
    "collapsed": false
   },
   "outputs": [
    {
     "data": {
      "text/html": [
       "<div style=\"max-height:1000px;max-width:1500px;overflow:auto;\">\n",
       "<table border=\"1\" class=\"dataframe\">\n",
       "  <thead>\n",
       "    <tr style=\"text-align: right;\">\n",
       "      <th></th>\n",
       "      <th>account</th>\n",
       "      <th>name</th>\n",
       "      <th>street</th>\n",
       "      <th>city</th>\n",
       "      <th>state</th>\n",
       "      <th>postal-code</th>\n",
       "      <th>Jan</th>\n",
       "      <th>Feb</th>\n",
       "      <th>Mar</th>\n",
       "    </tr>\n",
       "  </thead>\n",
       "  <tbody>\n",
       "    <tr>\n",
       "      <th>0</th>\n",
       "      <td> 211829</td>\n",
       "      <td>  Kerluke, Koepp and Hilpert</td>\n",
       "      <td>                   34456 Sean Highway</td>\n",
       "      <td>      New Jaycob</td>\n",
       "      <td>         Texas</td>\n",
       "      <td> 28752</td>\n",
       "      <td>  10000</td>\n",
       "      <td>  62000</td>\n",
       "      <td> 35000</td>\n",
       "    </tr>\n",
       "    <tr>\n",
       "      <th>1</th>\n",
       "      <td> 320563</td>\n",
       "      <td>              Walter-Trantow</td>\n",
       "      <td>                    1311 Alvis Tunnel</td>\n",
       "      <td>   Port Khadijah</td>\n",
       "      <td> NorthCarolina</td>\n",
       "      <td> 38365</td>\n",
       "      <td>  95000</td>\n",
       "      <td>  45000</td>\n",
       "      <td> 35000</td>\n",
       "    </tr>\n",
       "    <tr>\n",
       "      <th>2</th>\n",
       "      <td> 648336</td>\n",
       "      <td>  Bashirian, Kunde and Price</td>\n",
       "      <td> 62184 Schamberger Underpass Apt. 231</td>\n",
       "      <td>  New Lilianland</td>\n",
       "      <td>          Iowa</td>\n",
       "      <td> 76517</td>\n",
       "      <td>  91000</td>\n",
       "      <td> 120000</td>\n",
       "      <td> 35000</td>\n",
       "    </tr>\n",
       "    <tr>\n",
       "      <th>3</th>\n",
       "      <td> 109996</td>\n",
       "      <td> D'Amore, Gleichner and Bode</td>\n",
       "      <td>          155 Fadel Crescent Apt. 144</td>\n",
       "      <td>      Hyattburgh</td>\n",
       "      <td>         Maine</td>\n",
       "      <td> 46021</td>\n",
       "      <td>  45000</td>\n",
       "      <td> 120000</td>\n",
       "      <td> 10000</td>\n",
       "    </tr>\n",
       "    <tr>\n",
       "      <th>4</th>\n",
       "      <td> 121213</td>\n",
       "      <td>               Bauch-Goldner</td>\n",
       "      <td>                  7274 Marissa Common</td>\n",
       "      <td> Shanahanchester</td>\n",
       "      <td>    California</td>\n",
       "      <td> 49681</td>\n",
       "      <td> 162000</td>\n",
       "      <td> 120000</td>\n",
       "      <td> 35000</td>\n",
       "    </tr>\n",
       "  </tbody>\n",
       "</table>\n",
       "</div>"
      ],
      "text/plain": [
       "   account                         name                                street  \\\n",
       "0   211829   Kerluke, Koepp and Hilpert                    34456 Sean Highway   \n",
       "1   320563               Walter-Trantow                     1311 Alvis Tunnel   \n",
       "2   648336   Bashirian, Kunde and Price  62184 Schamberger Underpass Apt. 231   \n",
       "3   109996  D'Amore, Gleichner and Bode           155 Fadel Crescent Apt. 144   \n",
       "4   121213                Bauch-Goldner                   7274 Marissa Common   \n",
       "\n",
       "              city          state  postal-code     Jan     Feb    Mar  \n",
       "0       New Jaycob          Texas        28752   10000   62000  35000  \n",
       "1    Port Khadijah  NorthCarolina        38365   95000   45000  35000  \n",
       "2   New Lilianland           Iowa        76517   91000  120000  35000  \n",
       "3       Hyattburgh          Maine        46021   45000  120000  10000  \n",
       "4  Shanahanchester     California        49681  162000  120000  35000  "
      ]
     },
     "execution_count": 4,
     "metadata": {},
     "output_type": "execute_result"
    }
   ],
   "source": [
    "df = pd.read_excel(\"excel-comp-data.xlsx\")\n",
    "df.head()"
   ]
  },
  {
   "cell_type": "markdown",
   "metadata": {},
   "source": [
    "# Totals"
   ]
  },
  {
   "cell_type": "markdown",
   "metadata": {},
   "source": [
    "Add a total column to calc total of Jan+Feb+Mar\n",
    "\n",
    "Also add a total for each month by appending a totals data frame"
   ]
  },
  {
   "cell_type": "code",
   "execution_count": 5,
   "metadata": {
    "collapsed": false
   },
   "outputs": [
    {
     "data": {
      "text/html": [
       "<div style=\"max-height:1000px;max-width:1500px;overflow:auto;\">\n",
       "<table border=\"1\" class=\"dataframe\">\n",
       "  <thead>\n",
       "    <tr style=\"text-align: right;\">\n",
       "      <th></th>\n",
       "      <th>account</th>\n",
       "      <th>name</th>\n",
       "      <th>street</th>\n",
       "      <th>city</th>\n",
       "      <th>state</th>\n",
       "      <th>postal-code</th>\n",
       "      <th>Jan</th>\n",
       "      <th>Feb</th>\n",
       "      <th>Mar</th>\n",
       "      <th>total</th>\n",
       "    </tr>\n",
       "  </thead>\n",
       "  <tbody>\n",
       "    <tr>\n",
       "      <th>0</th>\n",
       "      <td> 211829</td>\n",
       "      <td>  Kerluke, Koepp and Hilpert</td>\n",
       "      <td>                   34456 Sean Highway</td>\n",
       "      <td>      New Jaycob</td>\n",
       "      <td>         Texas</td>\n",
       "      <td> 28752</td>\n",
       "      <td>  10000</td>\n",
       "      <td>  62000</td>\n",
       "      <td> 35000</td>\n",
       "      <td> 107000</td>\n",
       "    </tr>\n",
       "    <tr>\n",
       "      <th>1</th>\n",
       "      <td> 320563</td>\n",
       "      <td>              Walter-Trantow</td>\n",
       "      <td>                    1311 Alvis Tunnel</td>\n",
       "      <td>   Port Khadijah</td>\n",
       "      <td> NorthCarolina</td>\n",
       "      <td> 38365</td>\n",
       "      <td>  95000</td>\n",
       "      <td>  45000</td>\n",
       "      <td> 35000</td>\n",
       "      <td> 175000</td>\n",
       "    </tr>\n",
       "    <tr>\n",
       "      <th>2</th>\n",
       "      <td> 648336</td>\n",
       "      <td>  Bashirian, Kunde and Price</td>\n",
       "      <td> 62184 Schamberger Underpass Apt. 231</td>\n",
       "      <td>  New Lilianland</td>\n",
       "      <td>          Iowa</td>\n",
       "      <td> 76517</td>\n",
       "      <td>  91000</td>\n",
       "      <td> 120000</td>\n",
       "      <td> 35000</td>\n",
       "      <td> 246000</td>\n",
       "    </tr>\n",
       "    <tr>\n",
       "      <th>3</th>\n",
       "      <td> 109996</td>\n",
       "      <td> D'Amore, Gleichner and Bode</td>\n",
       "      <td>          155 Fadel Crescent Apt. 144</td>\n",
       "      <td>      Hyattburgh</td>\n",
       "      <td>         Maine</td>\n",
       "      <td> 46021</td>\n",
       "      <td>  45000</td>\n",
       "      <td> 120000</td>\n",
       "      <td> 10000</td>\n",
       "      <td> 175000</td>\n",
       "    </tr>\n",
       "    <tr>\n",
       "      <th>4</th>\n",
       "      <td> 121213</td>\n",
       "      <td>               Bauch-Goldner</td>\n",
       "      <td>                  7274 Marissa Common</td>\n",
       "      <td> Shanahanchester</td>\n",
       "      <td>    California</td>\n",
       "      <td> 49681</td>\n",
       "      <td> 162000</td>\n",
       "      <td> 120000</td>\n",
       "      <td> 35000</td>\n",
       "      <td> 317000</td>\n",
       "    </tr>\n",
       "  </tbody>\n",
       "</table>\n",
       "</div>"
      ],
      "text/plain": [
       "   account                         name                                street  \\\n",
       "0   211829   Kerluke, Koepp and Hilpert                    34456 Sean Highway   \n",
       "1   320563               Walter-Trantow                     1311 Alvis Tunnel   \n",
       "2   648336   Bashirian, Kunde and Price  62184 Schamberger Underpass Apt. 231   \n",
       "3   109996  D'Amore, Gleichner and Bode           155 Fadel Crescent Apt. 144   \n",
       "4   121213                Bauch-Goldner                   7274 Marissa Common   \n",
       "\n",
       "              city          state  postal-code     Jan     Feb    Mar   total  \n",
       "0       New Jaycob          Texas        28752   10000   62000  35000  107000  \n",
       "1    Port Khadijah  NorthCarolina        38365   95000   45000  35000  175000  \n",
       "2   New Lilianland           Iowa        76517   91000  120000  35000  246000  \n",
       "3       Hyattburgh          Maine        46021   45000  120000  10000  175000  \n",
       "4  Shanahanchester     California        49681  162000  120000  35000  317000  "
      ]
     },
     "execution_count": 5,
     "metadata": {},
     "output_type": "execute_result"
    }
   ],
   "source": [
    "df[\"total\"] = df[\"Jan\"] + df[\"Feb\"] + df[\"Mar\"]\n",
    "df.head()"
   ]
  },
  {
   "cell_type": "markdown",
   "metadata": {},
   "source": [
    "# Compute Some Totals"
   ]
  },
  {
   "cell_type": "code",
   "execution_count": 6,
   "metadata": {
    "collapsed": false
   },
   "outputs": [
    {
     "data": {
      "text/plain": [
       "(1462000, 97466.666666666672, 10000, 162000)"
      ]
     },
     "execution_count": 6,
     "metadata": {},
     "output_type": "execute_result"
    }
   ],
   "source": [
    "df[\"Jan\"].sum(), df[\"Jan\"].mean(),df[\"Jan\"].min(),df[\"Jan\"].max()\n"
   ]
  },
  {
   "cell_type": "code",
   "execution_count": 7,
   "metadata": {
    "collapsed": false
   },
   "outputs": [
    {
     "data": {
      "text/plain": [
       "Jan      1462000\n",
       "Feb      1507000\n",
       "Mar       717000\n",
       "total    3686000\n",
       "dtype: int64"
      ]
     },
     "execution_count": 7,
     "metadata": {},
     "output_type": "execute_result"
    }
   ],
   "source": [
    "sum_row=df[[\"Jan\",\"Feb\",\"Mar\",\"total\"]].sum()\n",
    "sum_row"
   ]
  },
  {
   "cell_type": "markdown",
   "metadata": {},
   "source": [
    "# Append this Data to the Data Fram"
   ]
  },
  {
   "cell_type": "code",
   "execution_count": 8,
   "metadata": {
    "collapsed": false
   },
   "outputs": [
    {
     "data": {
      "text/html": [
       "<div style=\"max-height:1000px;max-width:1500px;overflow:auto;\">\n",
       "<table border=\"1\" class=\"dataframe\">\n",
       "  <thead>\n",
       "    <tr style=\"text-align: right;\">\n",
       "      <th></th>\n",
       "      <th>account</th>\n",
       "      <th>name</th>\n",
       "      <th>street</th>\n",
       "      <th>city</th>\n",
       "      <th>state</th>\n",
       "      <th>postal-code</th>\n",
       "      <th>Jan</th>\n",
       "      <th>Feb</th>\n",
       "      <th>Mar</th>\n",
       "      <th>total</th>\n",
       "    </tr>\n",
       "  </thead>\n",
       "  <tbody>\n",
       "    <tr>\n",
       "      <th>11</th>\n",
       "      <td> 231907</td>\n",
       "      <td>                   Hahn-Moore</td>\n",
       "      <td> 18115 Olivine Throughway</td>\n",
       "      <td>   Norbertomouth</td>\n",
       "      <td> NorthDakota</td>\n",
       "      <td> 31415</td>\n",
       "      <td>  150000</td>\n",
       "      <td>   10000</td>\n",
       "      <td> 162000</td>\n",
       "      <td>  322000</td>\n",
       "    </tr>\n",
       "    <tr>\n",
       "      <th>12</th>\n",
       "      <td> 242368</td>\n",
       "      <td> Frami, Anderson and Donnelly</td>\n",
       "      <td>          182 Bertie Road</td>\n",
       "      <td>     East Davian</td>\n",
       "      <td>        Iowa</td>\n",
       "      <td> 72686</td>\n",
       "      <td>  162000</td>\n",
       "      <td>  120000</td>\n",
       "      <td>  35000</td>\n",
       "      <td>  317000</td>\n",
       "    </tr>\n",
       "    <tr>\n",
       "      <th>13</th>\n",
       "      <td> 268755</td>\n",
       "      <td>                  Walsh-Haley</td>\n",
       "      <td>     2624 Beatty Parkways</td>\n",
       "      <td>    Goodwinmouth</td>\n",
       "      <td> RhodeIsland</td>\n",
       "      <td> 31919</td>\n",
       "      <td>   55000</td>\n",
       "      <td>  120000</td>\n",
       "      <td>  35000</td>\n",
       "      <td>  210000</td>\n",
       "    </tr>\n",
       "    <tr>\n",
       "      <th>14</th>\n",
       "      <td> 273274</td>\n",
       "      <td>                McDermott PLC</td>\n",
       "      <td>    8917 Bergstrom Meadow</td>\n",
       "      <td> Kathryneborough</td>\n",
       "      <td>    Delaware</td>\n",
       "      <td> 27933</td>\n",
       "      <td>  150000</td>\n",
       "      <td>  120000</td>\n",
       "      <td>  70000</td>\n",
       "      <td>  340000</td>\n",
       "    </tr>\n",
       "    <tr>\n",
       "      <th>15</th>\n",
       "      <td>    NaN</td>\n",
       "      <td>                          NaN</td>\n",
       "      <td>                      NaN</td>\n",
       "      <td>             NaN</td>\n",
       "      <td>         NaN</td>\n",
       "      <td>   NaN</td>\n",
       "      <td> 1462000</td>\n",
       "      <td> 1507000</td>\n",
       "      <td> 717000</td>\n",
       "      <td> 3686000</td>\n",
       "    </tr>\n",
       "  </tbody>\n",
       "</table>\n",
       "</div>"
      ],
      "text/plain": [
       "    account                          name                    street  \\\n",
       "11   231907                    Hahn-Moore  18115 Olivine Throughway   \n",
       "12   242368  Frami, Anderson and Donnelly           182 Bertie Road   \n",
       "13   268755                   Walsh-Haley      2624 Beatty Parkways   \n",
       "14   273274                 McDermott PLC     8917 Bergstrom Meadow   \n",
       "15      NaN                           NaN                       NaN   \n",
       "\n",
       "               city        state  postal-code      Jan      Feb     Mar  \\\n",
       "11    Norbertomouth  NorthDakota        31415   150000    10000  162000   \n",
       "12      East Davian         Iowa        72686   162000   120000   35000   \n",
       "13     Goodwinmouth  RhodeIsland        31919    55000   120000   35000   \n",
       "14  Kathryneborough     Delaware        27933   150000   120000   70000   \n",
       "15              NaN          NaN          NaN  1462000  1507000  717000   \n",
       "\n",
       "      total  \n",
       "11   322000  \n",
       "12   317000  \n",
       "13   210000  \n",
       "14   340000  \n",
       "15  3686000  "
      ]
     },
     "execution_count": 8,
     "metadata": {},
     "output_type": "execute_result"
    }
   ],
   "source": [
    "df_sum=pd.DataFrame(data=sum_row).T\n",
    "df_sum\n",
    "df_sum=df_sum.reindex(columns=df.columns)\n",
    "df_sum\n",
    "df_final=df.append(df_sum,ignore_index=True)\n",
    "df_final.tail()"
   ]
  },
  {
   "cell_type": "markdown",
   "metadata": {},
   "source": [
    "# Count Unique Occurences"
   ]
  },
  {
   "cell_type": "code",
   "execution_count": 9,
   "metadata": {
    "collapsed": false
   },
   "outputs": [
    {
     "data": {
      "text/plain": [
       "Counter({u'RhodeIsland': 2, u'Iowa': 2, u'Delaware': 1, u'NorthDakota': 1, u'Tenessee': 1, u'Pennsylvania': 1, u'NorthCarolina': 1, u'Mississipi': 1, u'California': 1, u'Idaho': 1, u'Arkansas': 1, u'Maine': 1, u'Texas': 1})"
      ]
     },
     "execution_count": 9,
     "metadata": {},
     "output_type": "execute_result"
    }
   ],
   "source": [
    "from collections import Counter\n",
    "myDict=Counter(df.state)\n",
    "myDict"
   ]
  },
  {
   "cell_type": "code",
   "execution_count": 10,
   "metadata": {
    "collapsed": false
   },
   "outputs": [
    {
     "data": {
      "text/plain": [
       "<bound method Series.unique of 0             Texas\n",
       "1     NorthCarolina\n",
       "2              Iowa\n",
       "3             Maine\n",
       "4        California\n",
       "5          Arkansas\n",
       "6        Mississipi\n",
       "7       RhodeIsland\n",
       "8      Pennsylvania\n",
       "9             Idaho\n",
       "10         Tenessee\n",
       "11      NorthDakota\n",
       "12             Iowa\n",
       "13      RhodeIsland\n",
       "14         Delaware\n",
       "Name: state, dtype: object>"
      ]
     },
     "execution_count": 10,
     "metadata": {},
     "output_type": "execute_result"
    }
   ],
   "source": [
    "df['state'].unique"
   ]
  },
  {
   "cell_type": "markdown",
   "metadata": {},
   "source": [
    "# Lets Perform a VLookup"
   ]
  },
  {
   "cell_type": "markdown",
   "metadata": {},
   "source": [
    "Perform a VLookup by creating a lookup table and using the merge function to add a new lookup column"
   ]
  },
  {
   "cell_type": "code",
   "execution_count": 10,
   "metadata": {
    "collapsed": false
   },
   "outputs": [
    {
     "data": {
      "text/html": [
       "<div style=\"max-height:1000px;max-width:1500px;overflow:auto;\">\n",
       "<table border=\"1\" class=\"dataframe\">\n",
       "  <thead>\n",
       "    <tr style=\"text-align: right;\">\n",
       "      <th></th>\n",
       "      <th>State</th>\n",
       "      <th>Description</th>\n",
       "    </tr>\n",
       "  </thead>\n",
       "  <tbody>\n",
       "    <tr>\n",
       "      <th>0</th>\n",
       "      <td>         Texas</td>\n",
       "      <td>       Tex Mex</td>\n",
       "    </tr>\n",
       "    <tr>\n",
       "      <th>1</th>\n",
       "      <td> NorthCarolina</td>\n",
       "      <td>     Nod Cally</td>\n",
       "    </tr>\n",
       "    <tr>\n",
       "      <th>2</th>\n",
       "      <td>          Iowa</td>\n",
       "      <td>         Howya</td>\n",
       "    </tr>\n",
       "    <tr>\n",
       "      <th>3</th>\n",
       "      <td>         Maine</td>\n",
       "      <td>     Main Road</td>\n",
       "    </tr>\n",
       "    <tr>\n",
       "      <th>4</th>\n",
       "      <td>    California</td>\n",
       "      <td> Cally Thistle</td>\n",
       "    </tr>\n",
       "  </tbody>\n",
       "</table>\n",
       "</div>"
      ],
      "text/plain": [
       "           State    Description\n",
       "0          Texas        Tex Mex\n",
       "1  NorthCarolina      Nod Cally\n",
       "2           Iowa          Howya\n",
       "3          Maine      Main Road\n",
       "4     California  Cally Thistle"
      ]
     },
     "execution_count": 10,
     "metadata": {},
     "output_type": "execute_result"
    }
   ],
   "source": [
    "lu = pd.read_excel(\"Lookup.xlsx\")\n",
    "lu.head()"
   ]
  },
  {
   "cell_type": "code",
   "execution_count": 15,
   "metadata": {
    "collapsed": false
   },
   "outputs": [
    {
     "data": {
      "text/html": [
       "<div style=\"max-height:1000px;max-width:1500px;overflow:auto;\">\n",
       "<table border=\"1\" class=\"dataframe\">\n",
       "  <thead>\n",
       "    <tr style=\"text-align: right;\">\n",
       "      <th></th>\n",
       "      <th>account</th>\n",
       "      <th>name</th>\n",
       "      <th>street</th>\n",
       "      <th>city</th>\n",
       "      <th>state</th>\n",
       "      <th>postal-code</th>\n",
       "      <th>Jan</th>\n",
       "      <th>Feb</th>\n",
       "      <th>Mar</th>\n",
       "      <th>total</th>\n",
       "      <th>State</th>\n",
       "      <th>Description</th>\n",
       "    </tr>\n",
       "  </thead>\n",
       "  <tbody>\n",
       "    <tr>\n",
       "      <th>10</th>\n",
       "      <td> 209744</td>\n",
       "      <td>              Champlin-Morar</td>\n",
       "      <td>          26739 Grant Lock</td>\n",
       "      <td> Lake Juliannton</td>\n",
       "      <td> Pennsylvania</td>\n",
       "      <td> 64415</td>\n",
       "      <td>  70000</td>\n",
       "      <td>  95000</td>\n",
       "      <td>  35000</td>\n",
       "      <td> 200000</td>\n",
       "      <td> Pennsylvania</td>\n",
       "      <td>    Penny V</td>\n",
       "    </tr>\n",
       "    <tr>\n",
       "      <th>11</th>\n",
       "      <td> 212303</td>\n",
       "      <td>              Gerhold-Maggio</td>\n",
       "      <td> 366 Maggio Grove Apt. 998</td>\n",
       "      <td>       North Ras</td>\n",
       "      <td>        Idaho</td>\n",
       "      <td> 46308</td>\n",
       "      <td>  70000</td>\n",
       "      <td> 120000</td>\n",
       "      <td>  35000</td>\n",
       "      <td> 225000</td>\n",
       "      <td>        Idaho</td>\n",
       "      <td> you da Hoe</td>\n",
       "    </tr>\n",
       "    <tr>\n",
       "      <th>12</th>\n",
       "      <td> 214098</td>\n",
       "      <td> Goodwin, Homenick and Jerde</td>\n",
       "      <td> 649 Cierra Forks Apt. 078</td>\n",
       "      <td>        Rosaberg</td>\n",
       "      <td>     Tenessee</td>\n",
       "      <td> 47743</td>\n",
       "      <td>  45000</td>\n",
       "      <td> 120000</td>\n",
       "      <td>  55000</td>\n",
       "      <td> 220000</td>\n",
       "      <td>     Tenessee</td>\n",
       "      <td>   Ten Seas</td>\n",
       "    </tr>\n",
       "    <tr>\n",
       "      <th>13</th>\n",
       "      <td> 231907</td>\n",
       "      <td>                  Hahn-Moore</td>\n",
       "      <td>  18115 Olivine Throughway</td>\n",
       "      <td>   Norbertomouth</td>\n",
       "      <td>  NorthDakota</td>\n",
       "      <td> 31415</td>\n",
       "      <td> 150000</td>\n",
       "      <td>  10000</td>\n",
       "      <td> 162000</td>\n",
       "      <td> 322000</td>\n",
       "      <td>          NaN</td>\n",
       "      <td>        NaN</td>\n",
       "    </tr>\n",
       "    <tr>\n",
       "      <th>14</th>\n",
       "      <td> 273274</td>\n",
       "      <td>               McDermott PLC</td>\n",
       "      <td>     8917 Bergstrom Meadow</td>\n",
       "      <td> Kathryneborough</td>\n",
       "      <td>     Delaware</td>\n",
       "      <td> 27933</td>\n",
       "      <td> 150000</td>\n",
       "      <td> 120000</td>\n",
       "      <td>  70000</td>\n",
       "      <td> 340000</td>\n",
       "      <td>          NaN</td>\n",
       "      <td>        NaN</td>\n",
       "    </tr>\n",
       "  </tbody>\n",
       "</table>\n",
       "</div>"
      ],
      "text/plain": [
       "    account                         name                     street  \\\n",
       "10   209744               Champlin-Morar           26739 Grant Lock   \n",
       "11   212303               Gerhold-Maggio  366 Maggio Grove Apt. 998   \n",
       "12   214098  Goodwin, Homenick and Jerde  649 Cierra Forks Apt. 078   \n",
       "13   231907                   Hahn-Moore   18115 Olivine Throughway   \n",
       "14   273274                McDermott PLC      8917 Bergstrom Meadow   \n",
       "\n",
       "               city         state  postal-code     Jan     Feb     Mar  \\\n",
       "10  Lake Juliannton  Pennsylvania        64415   70000   95000   35000   \n",
       "11        North Ras         Idaho        46308   70000  120000   35000   \n",
       "12         Rosaberg      Tenessee        47743   45000  120000   55000   \n",
       "13    Norbertomouth   NorthDakota        31415  150000   10000  162000   \n",
       "14  Kathryneborough      Delaware        27933  150000  120000   70000   \n",
       "\n",
       "     total         State Description  \n",
       "10  200000  Pennsylvania     Penny V  \n",
       "11  225000         Idaho  you da Hoe  \n",
       "12  220000      Tenessee    Ten Seas  \n",
       "13  322000           NaN         NaN  \n",
       "14  340000           NaN         NaN  "
      ]
     },
     "execution_count": 15,
     "metadata": {},
     "output_type": "execute_result"
    }
   ],
   "source": [
    "\n",
    "df1 = pd.merge(df,lu\n",
    "               ,how='left', left_on='state', right_on='State')\n",
    "df1.tail()"
   ]
  },
  {
   "cell_type": "markdown",
   "metadata": {},
   "source": [
    "# Sumifs"
   ]
  },
  {
   "cell_type": "markdown",
   "metadata": {},
   "source": [
    "-Sumif the spend in Jan > 69999\n",
    "\n",
    "-Do this by adding a new column that populates the cell using and if statement(lambda). The calculate sum of column\n",
    "\n",
    "-Also count number of rows that satisfy this statement using a subset method"
   ]
  },
  {
   "cell_type": "code",
   "execution_count": 39,
   "metadata": {
    "collapsed": false
   },
   "outputs": [
    {
     "data": {
      "text/plain": [
       "2722000"
      ]
     },
     "execution_count": 39,
     "metadata": {},
     "output_type": "execute_result"
    }
   ],
   "source": [
    "df1['matches'] = df1.apply(lambda x: x['total'] if x['Jan'] > 69999 else 0,  axis=1)\n",
    "df1.matches.sum()"
   ]
  },
  {
   "cell_type": "code",
   "execution_count": 38,
   "metadata": {
    "collapsed": false
   },
   "outputs": [
    {
     "data": {
      "text/plain": [
       "10"
      ]
     },
     "execution_count": 38,
     "metadata": {},
     "output_type": "execute_result"
    }
   ],
   "source": [
    "df1_subset = df1[(df1.Jan > 69999)]\n",
    "df1_subset.matches.count()"
   ]
  },
  {
   "cell_type": "code",
   "execution_count": null,
   "metadata": {
    "collapsed": false
   },
   "outputs": [],
   "source": []
  }
 ],
 "metadata": {
  "kernelspec": {
   "display_name": "Python 2",
   "language": "python",
   "name": "python2"
  },
  "language_info": {
   "codemirror_mode": {
    "name": "ipython",
    "version": 2
   },
   "file_extension": ".py",
   "mimetype": "text/x-python",
   "name": "python",
   "nbconvert_exporter": "python",
   "pygments_lexer": "ipython2",
   "version": "2.7.9"
  }
 },
 "nbformat": 4,
 "nbformat_minor": 0
}
